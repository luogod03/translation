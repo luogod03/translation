{
 "cells": [
  {
   "cell_type": "markdown",
   "metadata": {},
   "source": [
    "# 英文评论批量翻译（带断点续传 & GPU 加速）\n",
    "本 Notebook 使用 Helsinki‑NLP/opus‑mt‑en‑zh 模型，将 CSV 中的英文评论翻译为中文。\n",
    "\n",
    "- ✅ 支持断点续传，每批翻译后即时保存。\n",
    "- ✅ 支持 GPU 加速，翻译速度更快。\n",
    "- ✅ 翻译完成后自动下载 `translated_output.csv`。\n"
   ]
  },
  {
   "cell_type": "code",
   "metadata": {},
   "source": [
    "# 安装必要依赖\n",
    "!pip install -q langdetect transformers sentencepiece pandas tqdm"
   ]
  },
  {
   "cell_type": "code",
   "metadata": {},
   "source": [
    "import pandas as pd\n",
    "import torch\n",
    "from tqdm import tqdm\n",
    "from transformers import MarianMTModel, MarianTokenizer\n",
    "from langdetect import detect, LangDetectException\n",
    "from google.colab import files\n",
    "import os\n"
   ]
  },
  {
   "cell_type": "code",
   "metadata": {},
   "source": [
    "# 设置设备 & 加载模型\n",
    "device = torch.device(\"cuda\" if torch.cuda.is_available() else \"cpu\")\n",
    "model_name = 'Helsinki-NLP/opus-mt-en-zh'\n",
    "tokenizer = MarianTokenizer.from_pretrained(model_name)\n",
    "model = MarianMTModel.from_pretrained(model_name).to(device)\n",
    "print(\"✅ 模型加载完成，使用设备：\", device)"
   ]
  },
  {
   "cell_type": "code",
   "metadata": {},
   "source": [
    "# 上传你的 CSV 文件（必须包含 `text` 列）\n",
    "uploaded = files.upload()\n",
    "input_file = list(uploaded.keys())[0]\n",
    "print(\"✅ 上传文件：\", input_file)"
   ]
  },
  {
   "cell_type": "code",
   "metadata": {},
   "source": [
    "# 读取 CSV（自动处理编码 & 异常行）\n",
    "try:\n",
    "    df = pd.read_csv(input_file, encoding='utf-8', on_bad_lines='skip')\n",
    "except Exception:\n",
    "    df = pd.read_csv(input_file, encoding='gbk', on_bad_lines='skip')\n",
    "print(f\"📄 总共 {len(df)} 条评论待处理，前5条预览：\")\n",
    "df.head()"
   ]
  },
  {
   "cell_type": "code",
   "metadata": {},
   "source": [
    "# 检查是否已有部分翻译文件\n",
    "partial_file = 'translated_partial.csv'\n",
    "if os.path.exists(partial_file):\n",
    "    df_partial = pd.read_csv(partial_file, encoding='utf-8')\n",
    "    done_indices = set(df_partial.index)\n",
    "    df.loc[done_indices, 'text'] = df_partial.loc[done_indices, 'text']\n",
    "    print(f\"🔄 已加载 {len(done_indices)} 条已翻译内容，继续从中断位置处理。\")\n",
    "else:\n",
    "    done_indices = set()\n",
    "    print(\"🔄 无中断续传记录，从头开始翻译。\")"
   ]
  },
  {
   "cell_type": "code",
   "metadata": {},
   "source": [
    "# 定义语言检测和翻译函数\n",
    "def is_english(text):\n",
    "    try:\n",
    "        return detect(text) == 'en'\n",
    "    except:\n",
    "        return False\n",
    "\n",
    "def translate_batch(texts):\n",
    "    inputs = tokenizer(texts, return_tensors='pt', padding=True, truncation=True, max_length=512)\n",
    "    inputs = {k: v.to(device) for k, v in inputs.items()}\n",
    "    outputs = model.generate(**inputs, max_length=512)\n",
    "    return tokenizer.batch_decode(outputs, skip_special_tokens=True)"
   ]
  },
  {
   "cell_type": "code",
   "metadata": {},
   "source": [
    "# 批量翻译 + 断点续传保存\n",
    "batch_size = 16\n",
    "total = len(df)\n",
    "for i in tqdm(range(0, total, batch_size), desc=\"翻译进度\"):\n",
    "    batch_df = df.iloc[i:i+batch_size]\n",
    "    batch_idx = batch_df.index.tolist()\n",
    "    if all(idx in done_indices for idx in batch_idx):\n",
    "        continue\n",
    "    texts = batch_df['text'].fillna('').astype(str).tolist()\n",
    "    mask = [is_english(t) for t in texts]\n",
    "    if any(mask):\n",
    "        to_translate = [t for t, m in zip(texts, mask) if m]\n",
    "        try:\n",
    "            translated = translate_batch(to_translate)\n",
    "        except Exception as e:\n",
    "            print(f\"⚠️ 批次发生错误，跳过：{e}\")\n",
    "            translated = to_translate\n",
    "        it = iter(translated)\n",
    "        new_texts = [next(it) if m else t for t, m in zip(texts, mask)]\n",
    "    else:\n",
    "        new_texts = texts\n",
    "    df.loc[batch_idx, 'text'] = new_texts\n",
    "    done_indices.update(batch_idx)\n",
    "    df.loc[list(batch_idx), ['text']].to_csv(partial_file, index=list(batch_idx), header=True, encoding='utf-8-sig')"
   ]
  },
  {
   "cell_type": "code",
   "metadata": {},
   "source": [
    "# 翻译完成，导出最终文件并下载\n",
    "output_file = 'translated_output.csv'\n",
    "df.to_csv(output_file, index=False, encoding='utf-8-sig')\n",
    "files.download(output_file)\n",
    "print(f\"✅ 翻译完成，已生成文件：{output_file}\")"
   ]
  }
 ],
 "metadata": {
  "kernelspec": { "display_name": "Python 3", "language": "python", "name": "python3" },
  "language_info": { "name": "python", "version": "3.9" }
 },
 "nbformat": 4,
 "nbformat_minor": 5
}
